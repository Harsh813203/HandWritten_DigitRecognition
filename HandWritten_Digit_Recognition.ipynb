{
  "nbformat": 4,
  "nbformat_minor": 0,
  "metadata": {
    "colab": {
      "name": "HandWritten_Digit Recognition.ipynb",
      "provenance": [],
      "include_colab_link": true
    },
    "kernelspec": {
      "name": "python3",
      "display_name": "Python 3"
    },
    "accelerator": "GPU"
  },
  "cells": [
    {
      "cell_type": "markdown",
      "metadata": {
        "id": "view-in-github",
        "colab_type": "text"
      },
      "source": [
        "<a href=\"https://colab.research.google.com/github/Harsh813203/HandWritten_DigitRecognition/blob/master/HandWritten_Digit_Recognition.ipynb\" target=\"_parent\"><img src=\"https://colab.research.google.com/assets/colab-badge.svg\" alt=\"Open In Colab\"/></a>"
      ]
    },
    {
      "cell_type": "code",
      "metadata": {
        "id": "iaIJxJxsxiqn"
      },
      "source": [
        "import keras"
      ],
      "execution_count": null,
      "outputs": []
    },
    {
      "cell_type": "code",
      "metadata": {
        "id": "7eN2TbEhyD0-"
      },
      "source": [
        "from keras.datasets import mnist"
      ],
      "execution_count": null,
      "outputs": []
    },
    {
      "cell_type": "code",
      "metadata": {
        "id": "RG3_wsc5yOrH"
      },
      "source": [
        "data = mnist.load_data()\n",
        "(train_images, train_labels), (test_images, test_labels) = data"
      ],
      "execution_count": null,
      "outputs": []
    },
    {
      "cell_type": "code",
      "metadata": {
        "id": "7S0VdcxkymMN",
        "colab": {
          "base_uri": "https://localhost:8080/"
        },
        "outputId": "9515aa34-f27f-4beb-cd92-e5fd63ec02f2"
      },
      "source": [
        "len(train_images)"
      ],
      "execution_count": null,
      "outputs": [
        {
          "output_type": "execute_result",
          "data": {
            "text/plain": [
              "60000"
            ]
          },
          "metadata": {
            "tags": []
          },
          "execution_count": 20
        }
      ]
    },
    {
      "cell_type": "code",
      "metadata": {
        "id": "Nm-uFBH5ysc2",
        "colab": {
          "base_uri": "https://localhost:8080/"
        },
        "outputId": "aad9e205-5226-4584-863a-68e6f9f90757"
      },
      "source": [
        "len(train_labels)"
      ],
      "execution_count": null,
      "outputs": [
        {
          "output_type": "execute_result",
          "data": {
            "text/plain": [
              "60000"
            ]
          },
          "metadata": {
            "tags": []
          },
          "execution_count": 21
        }
      ]
    },
    {
      "cell_type": "code",
      "metadata": {
        "id": "KCoJa410yvsT",
        "colab": {
          "base_uri": "https://localhost:8080/"
        },
        "outputId": "7115c4a4-5137-4d9c-8146-59939c1d49e8"
      },
      "source": [
        "len(test_images)"
      ],
      "execution_count": null,
      "outputs": [
        {
          "output_type": "execute_result",
          "data": {
            "text/plain": [
              "10000"
            ]
          },
          "metadata": {
            "tags": []
          },
          "execution_count": 22
        }
      ]
    },
    {
      "cell_type": "code",
      "metadata": {
        "id": "yZzk530Ky-Cn"
      },
      "source": [
        "train_images = train_images.reshape((60000, 28, 28, 1))"
      ],
      "execution_count": null,
      "outputs": []
    },
    {
      "cell_type": "code",
      "metadata": {
        "id": "kVmY_DWtzIYh"
      },
      "source": [
        "test_images = test_images.reshape((10000, 28, 28, 1))"
      ],
      "execution_count": null,
      "outputs": []
    },
    {
      "cell_type": "code",
      "metadata": {
        "id": "rrn1GlEd0P4F"
      },
      "source": [
        "train_images = train_images.astype('float')/255 #normalization"
      ],
      "execution_count": null,
      "outputs": []
    },
    {
      "cell_type": "code",
      "metadata": {
        "id": "LNWfwubv0fKc"
      },
      "source": [
        "test_images = test_images.astype('float')/255 #normalization"
      ],
      "execution_count": null,
      "outputs": []
    },
    {
      "cell_type": "markdown",
      "metadata": {
        "id": "Gu--mK8Z2EHr"
      },
      "source": [
        ""
      ]
    },
    {
      "cell_type": "code",
      "metadata": {
        "id": "RJ_KLVOg0mj8"
      },
      "source": [
        "from keras.preprocessing import image\n",
        "import matplotlib.pyplot as plt"
      ],
      "execution_count": null,
      "outputs": []
    },
    {
      "cell_type": "code",
      "metadata": {
        "id": "bXFqUq5a0t_e",
        "colab": {
          "base_uri": "https://localhost:8080/",
          "height": 282
        },
        "outputId": "f22def4b-69b6-4a52-a42b-fe4435712bac"
      },
      "source": [
        "plt.imshow(image.array_to_img(train_images[8]), cmap=\"gray\")"
      ],
      "execution_count": null,
      "outputs": [
        {
          "output_type": "execute_result",
          "data": {
            "text/plain": [
              "<matplotlib.image.AxesImage at 0x7f49aae66710>"
            ]
          },
          "metadata": {
            "tags": []
          },
          "execution_count": 28
        },
        {
          "output_type": "display_data",
          "data": {
            "image/png": "[encoded data removed]",
            "text/plain": [
              "<Figure size 432x288 with 1 Axes>"
            ]
          },
          "metadata": {
            "tags": [],
            "needs_background": "light"
          }
        }
      ]
    },
    {
      "cell_type": "code",
      "metadata": {
        "id": "rofIC1Rx0_QV",
        "colab": {
          "base_uri": "https://localhost:8080/"
        },
        "outputId": "a57ff8f5-96b3-4c0d-9df8-f606120fd7a8"
      },
      "source": [
        "train_labels[8]"
      ],
      "execution_count": null,
      "outputs": [
        {
          "output_type": "execute_result",
          "data": {
            "text/plain": [
              "1"
            ]
          },
          "metadata": {
            "tags": []
          },
          "execution_count": 29
        }
      ]
    },
    {
      "cell_type": "code",
      "metadata": {
        "id": "zcLTccye228v"
      },
      "source": [
        "from keras.utils import to_categorical\n",
        "train_labels_original = train_labels\n",
        "train_labels = to_categorical(train_labels)"
      ],
      "execution_count": null,
      "outputs": []
    },
    {
      "cell_type": "code",
      "metadata": {
        "id": "P2WgStcR3NOK",
        "colab": {
          "base_uri": "https://localhost:8080/"
        },
        "outputId": "a6931a49-1d93-48e0-b14e-af3210bf34f7"
      },
      "source": [
        "train_labels[20]"
      ],
      "execution_count": null,
      "outputs": [
        {
          "output_type": "execute_result",
          "data": {
            "text/plain": [
              "array([0., 0., 0., 0., 1., 0., 0., 0., 0., 0.], dtype=float32)"
            ]
          },
          "metadata": {
            "tags": []
          },
          "execution_count": 31
        }
      ]
    },
    {
      "cell_type": "code",
      "metadata": {
        "id": "kCtUsTkm3iOa"
      },
      "source": [
        "test_labels_original = test_labels\n",
        "test_labels = to_categorical(test_labels)"
      ],
      "execution_count": null,
      "outputs": []
    },
    {
      "cell_type": "code",
      "metadata": {
        "id": "gUx8RmOk3n-u",
        "colab": {
          "base_uri": "https://localhost:8080/"
        },
        "outputId": "a256b86b-ae25-4ba1-f714-4ded0951f723"
      },
      "source": [
        "test_labels_original[7]"
      ],
      "execution_count": null,
      "outputs": [
        {
          "output_type": "execute_result",
          "data": {
            "text/plain": [
              "9"
            ]
          },
          "metadata": {
            "tags": []
          },
          "execution_count": 33
        }
      ]
    },
    {
      "cell_type": "code",
      "metadata": {
        "id": "Myuijtgg3rV1",
        "colab": {
          "base_uri": "https://localhost:8080/"
        },
        "outputId": "388b5f18-fa4f-4b69-ac9e-f21c09122968"
      },
      "source": [
        "test_labels[7]"
      ],
      "execution_count": null,
      "outputs": [
        {
          "output_type": "execute_result",
          "data": {
            "text/plain": [
              "array([0., 0., 0., 0., 0., 0., 0., 0., 0., 1.], dtype=float32)"
            ]
          },
          "metadata": {
            "tags": []
          },
          "execution_count": 34
        }
      ]
    },
    {
      "cell_type": "code",
      "metadata": {
        "id": "cZd4TuZw4GrZ"
      },
      "source": [
        "from keras import layers, models"
      ],
      "execution_count": null,
      "outputs": []
    },
    {
      "cell_type": "code",
      "metadata": {
        "id": "MdXtk0--4PYx"
      },
      "source": [
        "model = models.Sequential()"
      ],
      "execution_count": null,
      "outputs": []
    },
    {
      "cell_type": "code",
      "metadata": {
        "id": "LlK62Onx4XUN"
      },
      "source": [
        "model.add(layers.Conv2D(32, (3,3), activation='relu', input_shape = (28,28,1)))"
      ],
      "execution_count": null,
      "outputs": []
    },
    {
      "cell_type": "code",
      "metadata": {
        "id": "u2METLG67BVE",
        "colab": {
          "base_uri": "https://localhost:8080/"
        },
        "outputId": "d5e1f4c0-f47d-4c44-8aeb-983cbe5cf348"
      },
      "source": [
        "model.summary()"
      ],
      "execution_count": null,
      "outputs": [
        {
          "output_type": "stream",
          "text": [
            "Model: \"sequential\"\n",
            "_________________________________________________________________\n",
            "Layer (type)                 Output Shape              Param #   \n",
            "=================================================================\n",
            "conv2d (Conv2D)              (None, 26, 26, 32)        320       \n",
            "=================================================================\n",
            "Total params: 320\n",
            "Trainable params: 320\n",
            "Non-trainable params: 0\n",
            "_________________________________________________________________\n"
          ],
          "name": "stdout"
        }
      ]
    },
    {
      "cell_type": "code",
      "metadata": {
        "id": "gN4AOSrX7ke-"
      },
      "source": [
        "model.add(layers.MaxPooling2D((2,2)))"
      ],
      "execution_count": null,
      "outputs": []
    },
    {
      "cell_type": "code",
      "metadata": {
        "id": "t2KdvgOT73zC"
      },
      "source": [
        "model.add(layers.Conv2D(64, (3,3), activation = 'relu'))"
      ],
      "execution_count": null,
      "outputs": []
    },
    {
      "cell_type": "code",
      "metadata": {
        "id": "-beW5YyP8BS1",
        "colab": {
          "base_uri": "https://localhost:8080/"
        },
        "outputId": "c6ca1a89-1c50-4e18-bb89-d0ec3a255ce5"
      },
      "source": [
        "model.summary()"
      ],
      "execution_count": null,
      "outputs": [
        {
          "output_type": "stream",
          "text": [
            "Model: \"sequential\"\n",
            "_________________________________________________________________\n",
            "Layer (type)                 Output Shape              Param #   \n",
            "=================================================================\n",
            "conv2d (Conv2D)              (None, 26, 26, 32)        320       \n",
            "_________________________________________________________________\n",
            "max_pooling2d (MaxPooling2D) (None, 13, 13, 32)        0         \n",
            "_________________________________________________________________\n",
            "conv2d_1 (Conv2D)            (None, 11, 11, 64)        18496     \n",
            "=================================================================\n",
            "Total params: 18,816\n",
            "Trainable params: 18,816\n",
            "Non-trainable params: 0\n",
            "_________________________________________________________________\n"
          ],
          "name": "stdout"
        }
      ]
    },
    {
      "cell_type": "code",
      "metadata": {
        "id": "PN_X8pjE8PFU"
      },
      "source": [
        "model.add(layers.MaxPooling2D((2,2)))"
      ],
      "execution_count": null,
      "outputs": []
    },
    {
      "cell_type": "code",
      "metadata": {
        "id": "Gcq51QBs8ify"
      },
      "source": [
        "model.add(layers.Conv2D(64, (3,3), activation='relu'))"
      ],
      "execution_count": null,
      "outputs": []
    },
    {
      "cell_type": "code",
      "metadata": {
        "id": "zaWlzwcy8s1f",
        "colab": {
          "base_uri": "https://localhost:8080/"
        },
        "outputId": "8abcf950-0f02-4742-f15c-b74f64a9bc90"
      },
      "source": [
        "model.summary()"
      ],
      "execution_count": null,
      "outputs": [
        {
          "output_type": "stream",
          "text": [
            "Model: \"sequential\"\n",
            "_________________________________________________________________\n",
            "Layer (type)                 Output Shape              Param #   \n",
            "=================================================================\n",
            "conv2d (Conv2D)              (None, 26, 26, 32)        320       \n",
            "_________________________________________________________________\n",
            "max_pooling2d (MaxPooling2D) (None, 13, 13, 32)        0         \n",
            "_________________________________________________________________\n",
            "conv2d_1 (Conv2D)            (None, 11, 11, 64)        18496     \n",
            "_________________________________________________________________\n",
            "max_pooling2d_1 (MaxPooling2 (None, 5, 5, 64)          0         \n",
            "_________________________________________________________________\n",
            "conv2d_2 (Conv2D)            (None, 3, 3, 64)          36928     \n",
            "=================================================================\n",
            "Total params: 55,744\n",
            "Trainable params: 55,744\n",
            "Non-trainable params: 0\n",
            "_________________________________________________________________\n"
          ],
          "name": "stdout"
        }
      ]
    },
    {
      "cell_type": "code",
      "metadata": {
        "id": "oDATD0G78zcY"
      },
      "source": [
        "model.add(layers.Flatten())"
      ],
      "execution_count": null,
      "outputs": []
    },
    {
      "cell_type": "code",
      "metadata": {
        "id": "VYPwKA-w9ZgK",
        "colab": {
          "base_uri": "https://localhost:8080/"
        },
        "outputId": "fad3ce09-05b0-4813-993a-3b60cb65ff70"
      },
      "source": [
        "model.summary()"
      ],
      "execution_count": null,
      "outputs": [
        {
          "output_type": "stream",
          "text": [
            "Model: \"sequential\"\n",
            "_________________________________________________________________\n",
            "Layer (type)                 Output Shape              Param #   \n",
            "=================================================================\n",
            "conv2d (Conv2D)              (None, 26, 26, 32)        320       \n",
            "_________________________________________________________________\n",
            "max_pooling2d (MaxPooling2D) (None, 13, 13, 32)        0         \n",
            "_________________________________________________________________\n",
            "conv2d_1 (Conv2D)            (None, 11, 11, 64)        18496     \n",
            "_________________________________________________________________\n",
            "max_pooling2d_1 (MaxPooling2 (None, 5, 5, 64)          0         \n",
            "_________________________________________________________________\n",
            "conv2d_2 (Conv2D)            (None, 3, 3, 64)          36928     \n",
            "_________________________________________________________________\n",
            "flatten (Flatten)            (None, 576)               0         \n",
            "=================================================================\n",
            "Total params: 55,744\n",
            "Trainable params: 55,744\n",
            "Non-trainable params: 0\n",
            "_________________________________________________________________\n"
          ],
          "name": "stdout"
        }
      ]
    },
    {
      "cell_type": "code",
      "metadata": {
        "id": "ua4iv3Oj9h30"
      },
      "source": [
        "model.add(layers.Dense(64, activation = 'relu'))"
      ],
      "execution_count": null,
      "outputs": []
    },
    {
      "cell_type": "code",
      "metadata": {
        "id": "KJW2Vxzm9zFV"
      },
      "source": [
        "model.add(layers.Dense(10, activation='softmax'))"
      ],
      "execution_count": null,
      "outputs": []
    },
    {
      "cell_type": "code",
      "metadata": {
        "id": "8gwZWtqJ-I2T",
        "colab": {
          "base_uri": "https://localhost:8080/"
        },
        "outputId": "a5af163f-f579-4561-a104-330724e36f88"
      },
      "source": [
        "model.summary()"
      ],
      "execution_count": null,
      "outputs": [
        {
          "output_type": "stream",
          "text": [
            "Model: \"sequential\"\n",
            "_________________________________________________________________\n",
            "Layer (type)                 Output Shape              Param #   \n",
            "=================================================================\n",
            "conv2d (Conv2D)              (None, 26, 26, 32)        320       \n",
            "_________________________________________________________________\n",
            "max_pooling2d (MaxPooling2D) (None, 13, 13, 32)        0         \n",
            "_________________________________________________________________\n",
            "conv2d_1 (Conv2D)            (None, 11, 11, 64)        18496     \n",
            "_________________________________________________________________\n",
            "max_pooling2d_1 (MaxPooling2 (None, 5, 5, 64)          0         \n",
            "_________________________________________________________________\n",
            "conv2d_2 (Conv2D)            (None, 3, 3, 64)          36928     \n",
            "_________________________________________________________________\n",
            "flatten (Flatten)            (None, 576)               0         \n",
            "_________________________________________________________________\n",
            "dense (Dense)                (None, 64)                36928     \n",
            "_________________________________________________________________\n",
            "dense_1 (Dense)              (None, 10)                650       \n",
            "=================================================================\n",
            "Total params: 93,322\n",
            "Trainable params: 93,322\n",
            "Non-trainable params: 0\n",
            "_________________________________________________________________\n"
          ],
          "name": "stdout"
        }
      ]
    },
    {
      "cell_type": "code",
      "metadata": {
        "id": "CjO2rrdi-UYP"
      },
      "source": [
        "model.compile(loss='categorical_crossentropy', optimizer='rmsprop', metrics=['accuracy'])"
      ],
      "execution_count": null,
      "outputs": []
    },
    {
      "cell_type": "code",
      "metadata": {
        "id": "HRW7N6lv_CMW",
        "colab": {
          "base_uri": "https://localhost:8080/"
        },
        "outputId": "612f804e-cc02-49d6-8576-dc05bec42b1f"
      },
      "source": [
        "model.fit(train_images, train_labels, epochs = 100, batch_size=64)"
      ],
      "execution_count": null,
      "outputs": [
        {
          "output_type": "stream",
          "text": [
            "Epoch 1/100\n",
            "938/938 [==============================] - 3s 4ms/step - loss: 0.1798 - accuracy: 0.9445\n",
            "Epoch 2/100\n",
            "938/938 [==============================] - 3s 3ms/step - loss: 0.0461 - accuracy: 0.9856\n",
            "Epoch 3/100\n",
            "938/938 [==============================] - 3s 4ms/step - loss: 0.0324 - accuracy: 0.9902\n",
            "Epoch 4/100\n",
            "938/938 [==============================] - 3s 4ms/step - loss: 0.0243 - accuracy: 0.9927\n",
            "Epoch 5/100\n",
            "938/938 [==============================] - 3s 4ms/step - loss: 0.0182 - accuracy: 0.9943\n",
            "Epoch 6/100\n",
            "938/938 [==============================] - 3s 4ms/step - loss: 0.0163 - accuracy: 0.9952\n",
            "Epoch 7/100\n",
            "938/938 [==============================] - 3s 4ms/step - loss: 0.0133 - accuracy: 0.9956\n",
            "Epoch 8/100\n",
            "938/938 [==============================] - 3s 3ms/step - loss: 0.0115 - accuracy: 0.9966\n",
            "Epoch 9/100\n",
            "938/938 [==============================] - 3s 3ms/step - loss: 0.0090 - accuracy: 0.9974\n",
            "Epoch 10/100\n",
            "938/938 [==============================] - 3s 3ms/step - loss: 0.0073 - accuracy: 0.9980\n",
            "Epoch 11/100\n",
            "938/938 [==============================] - 3s 3ms/step - loss: 0.0071 - accuracy: 0.9981\n",
            "Epoch 12/100\n",
            "938/938 [==============================] - 3s 4ms/step - loss: 0.0055 - accuracy: 0.9983\n",
            "Epoch 13/100\n",
            "938/938 [==============================] - 3s 3ms/step - loss: 0.0059 - accuracy: 0.9984\n",
            "Epoch 14/100\n",
            "938/938 [==============================] - 3s 3ms/step - loss: 0.0047 - accuracy: 0.9987\n",
            "Epoch 15/100\n",
            "938/938 [==============================] - 3s 4ms/step - loss: 0.0043 - accuracy: 0.9987\n",
            "Epoch 16/100\n",
            "938/938 [==============================] - 3s 3ms/step - loss: 0.0040 - accuracy: 0.9990\n",
            "Epoch 17/100\n",
            "938/938 [==============================] - 3s 3ms/step - loss: 0.0043 - accuracy: 0.9987\n",
            "Epoch 18/100\n",
            "938/938 [==============================] - 3s 4ms/step - loss: 0.0035 - accuracy: 0.9989\n",
            "Epoch 19/100\n",
            "938/938 [==============================] - 3s 4ms/step - loss: 0.0038 - accuracy: 0.9990\n",
            "Epoch 20/100\n",
            "938/938 [==============================] - 3s 3ms/step - loss: 0.0033 - accuracy: 0.9991\n",
            "Epoch 21/100\n",
            "938/938 [==============================] - 3s 4ms/step - loss: 0.0034 - accuracy: 0.9992\n",
            "Epoch 22/100\n",
            "938/938 [==============================] - 3s 4ms/step - loss: 0.0027 - accuracy: 0.9992\n",
            "Epoch 23/100\n",
            "938/938 [==============================] - 3s 3ms/step - loss: 0.0036 - accuracy: 0.9992\n",
            "Epoch 24/100\n",
            "938/938 [==============================] - 3s 4ms/step - loss: 0.0030 - accuracy: 0.9992\n",
            "Epoch 25/100\n",
            "938/938 [==============================] - 3s 4ms/step - loss: 0.0034 - accuracy: 0.9993\n",
            "Epoch 26/100\n",
            "938/938 [==============================] - 3s 4ms/step - loss: 0.0028 - accuracy: 0.9992\n",
            "Epoch 27/100\n",
            "938/938 [==============================] - 3s 4ms/step - loss: 0.0019 - accuracy: 0.9995\n",
            "Epoch 28/100\n",
            "938/938 [==============================] - 4s 4ms/step - loss: 0.0030 - accuracy: 0.9993\n",
            "Epoch 29/100\n",
            "938/938 [==============================] - 4s 4ms/step - loss: 0.0026 - accuracy: 0.9994\n",
            "Epoch 30/100\n",
            "938/938 [==============================] - 3s 4ms/step - loss: 0.0020 - accuracy: 0.9995\n",
            "Epoch 31/100\n",
            "938/938 [==============================] - 3s 3ms/step - loss: 0.0019 - accuracy: 0.9994\n",
            "Epoch 32/100\n",
            "938/938 [==============================] - 3s 3ms/step - loss: 0.0030 - accuracy: 0.9993\n",
            "Epoch 33/100\n",
            "938/938 [==============================] - 3s 3ms/step - loss: 0.0028 - accuracy: 0.9994\n",
            "Epoch 34/100\n",
            "938/938 [==============================] - 3s 4ms/step - loss: 0.0020 - accuracy: 0.9995\n",
            "Epoch 35/100\n",
            "938/938 [==============================] - 3s 3ms/step - loss: 0.0014 - accuracy: 0.9996\n",
            "Epoch 36/100\n",
            "938/938 [==============================] - 3s 3ms/step - loss: 0.0015 - accuracy: 0.9997\n",
            "Epoch 37/100\n",
            "938/938 [==============================] - 3s 3ms/step - loss: 0.0019 - accuracy: 0.9996\n",
            "Epoch 38/100\n",
            "938/938 [==============================] - 3s 4ms/step - loss: 0.0016 - accuracy: 0.9997\n",
            "Epoch 39/100\n",
            "938/938 [==============================] - 3s 4ms/step - loss: 0.0017 - accuracy: 0.9996\n",
            "Epoch 40/100\n",
            "938/938 [==============================] - 3s 3ms/step - loss: 0.0018 - accuracy: 0.9997\n",
            "Epoch 41/100\n",
            "938/938 [==============================] - 3s 4ms/step - loss: 0.0019 - accuracy: 0.9997\n",
            "Epoch 42/100\n",
            "938/938 [==============================] - 3s 4ms/step - loss: 0.0027 - accuracy: 0.9996\n",
            "Epoch 43/100\n",
            "938/938 [==============================] - 3s 4ms/step - loss: 0.0019 - accuracy: 0.9997\n",
            "Epoch 44/100\n",
            "938/938 [==============================] - 3s 4ms/step - loss: 0.0017 - accuracy: 0.9997\n",
            "Epoch 45/100\n",
            "938/938 [==============================] - 3s 4ms/step - loss: 7.6248e-04 - accuracy: 0.9997\n",
            "Epoch 46/100\n",
            "938/938 [==============================] - 3s 4ms/step - loss: 0.0010 - accuracy: 0.9997\n",
            "Epoch 47/100\n",
            "938/938 [==============================] - 3s 4ms/step - loss: 0.0020 - accuracy: 0.9997\n",
            "Epoch 48/100\n",
            "938/938 [==============================] - 3s 4ms/step - loss: 8.6464e-04 - accuracy: 0.9998\n",
            "Epoch 49/100\n",
            "938/938 [==============================] - 3s 4ms/step - loss: 0.0024 - accuracy: 0.9997\n",
            "Epoch 50/100\n",
            "938/938 [==============================] - 3s 4ms/step - loss: 0.0017 - accuracy: 0.9997\n",
            "Epoch 51/100\n",
            "938/938 [==============================] - 3s 4ms/step - loss: 0.0016 - accuracy: 0.9996\n",
            "Epoch 52/100\n",
            "938/938 [==============================] - 3s 4ms/step - loss: 0.0014 - accuracy: 0.9998\n",
            "Epoch 53/100\n",
            "938/938 [==============================] - 3s 4ms/step - loss: 9.9065e-04 - accuracy: 0.9998\n",
            "Epoch 54/100\n",
            "938/938 [==============================] - 3s 4ms/step - loss: 0.0015 - accuracy: 0.9998\n",
            "Epoch 55/100\n",
            "938/938 [==============================] - 3s 4ms/step - loss: 0.0013 - accuracy: 0.9997\n",
            "Epoch 56/100\n",
            "938/938 [==============================] - 3s 4ms/step - loss: 7.6028e-04 - accuracy: 0.9998\n",
            "Epoch 57/100\n",
            "938/938 [==============================] - 3s 4ms/step - loss: 0.0011 - accuracy: 0.9998\n",
            "Epoch 58/100\n",
            "938/938 [==============================] - 3s 4ms/step - loss: 4.7309e-04 - accuracy: 0.9999\n",
            "Epoch 59/100\n",
            "938/938 [==============================] - 3s 4ms/step - loss: 3.3477e-04 - accuracy: 0.9999\n",
            "Epoch 60/100\n",
            "938/938 [==============================] - 3s 4ms/step - loss: 5.9565e-04 - accuracy: 0.9998\n",
            "Epoch 61/100\n",
            "938/938 [==============================] - 3s 4ms/step - loss: 0.0014 - accuracy: 0.9997\n",
            "Epoch 62/100\n",
            "938/938 [==============================] - 3s 4ms/step - loss: 9.3428e-04 - accuracy: 0.9998\n",
            "Epoch 63/100\n",
            "938/938 [==============================] - 3s 4ms/step - loss: 0.0014 - accuracy: 0.9998\n",
            "Epoch 64/100\n",
            "938/938 [==============================] - 3s 4ms/step - loss: 0.0022 - accuracy: 0.9998\n",
            "Epoch 65/100\n",
            "938/938 [==============================] - 3s 4ms/step - loss: 0.0017 - accuracy: 0.9998\n",
            "Epoch 66/100\n",
            "938/938 [==============================] - 3s 4ms/step - loss: 8.3133e-04 - accuracy: 0.9999\n",
            "Epoch 67/100\n",
            "938/938 [==============================] - 3s 4ms/step - loss: 0.0020 - accuracy: 0.9998\n",
            "Epoch 68/100\n",
            "938/938 [==============================] - 3s 4ms/step - loss: 0.0011 - accuracy: 0.9999\n",
            "Epoch 69/100\n",
            "938/938 [==============================] - 4s 4ms/step - loss: 9.6189e-04 - accuracy: 0.9998\n",
            "Epoch 70/100\n",
            "938/938 [==============================] - 3s 4ms/step - loss: 2.1995e-04 - accuracy: 0.9999\n",
            "Epoch 71/100\n",
            "938/938 [==============================] - 3s 4ms/step - loss: 8.8670e-04 - accuracy: 0.9999\n",
            "Epoch 72/100\n",
            "938/938 [==============================] - 3s 4ms/step - loss: 4.9259e-04 - accuracy: 0.9999\n",
            "Epoch 73/100\n",
            "938/938 [==============================] - 3s 4ms/step - loss: 0.0016 - accuracy: 0.9998\n",
            "Epoch 74/100\n",
            "938/938 [==============================] - 3s 4ms/step - loss: 2.7629e-04 - accuracy: 0.9999\n",
            "Epoch 75/100\n",
            "938/938 [==============================] - 3s 4ms/step - loss: 0.0012 - accuracy: 0.9998\n",
            "Epoch 76/100\n",
            "938/938 [==============================] - 3s 4ms/step - loss: 0.0022 - accuracy: 0.9998\n",
            "Epoch 77/100\n",
            "938/938 [==============================] - 3s 3ms/step - loss: 0.0014 - accuracy: 0.9998\n",
            "Epoch 78/100\n",
            "938/938 [==============================] - 3s 4ms/step - loss: 0.0014 - accuracy: 0.9998\n",
            "Epoch 79/100\n",
            "938/938 [==============================] - 3s 4ms/step - loss: 0.0011 - accuracy: 0.9999\n",
            "Epoch 80/100\n",
            "938/938 [==============================] - 3s 4ms/step - loss: 0.0013 - accuracy: 0.9998\n",
            "Epoch 81/100\n",
            "938/938 [==============================] - 3s 4ms/step - loss: 8.7761e-04 - accuracy: 0.9998\n",
            "Epoch 82/100\n",
            "938/938 [==============================] - 3s 4ms/step - loss: 0.0025 - accuracy: 0.9997\n",
            "Epoch 83/100\n",
            "938/938 [==============================] - 3s 4ms/step - loss: 0.0016 - accuracy: 0.9998\n",
            "Epoch 84/100\n",
            "938/938 [==============================] - 3s 4ms/step - loss: 3.9486e-04 - accuracy: 0.9999\n",
            "Epoch 85/100\n",
            "938/938 [==============================] - 3s 4ms/step - loss: 4.4659e-04 - accuracy: 0.9999\n",
            "Epoch 86/100\n",
            "938/938 [==============================] - 3s 4ms/step - loss: 0.0011 - accuracy: 0.9998\n",
            "Epoch 87/100\n",
            "938/938 [==============================] - 3s 4ms/step - loss: 7.0642e-04 - accuracy: 0.9999\n",
            "Epoch 88/100\n",
            "938/938 [==============================] - 3s 4ms/step - loss: 4.7450e-04 - accuracy: 1.0000\n",
            "Epoch 89/100\n",
            "938/938 [==============================] - 3s 4ms/step - loss: 6.4392e-04 - accuracy: 0.9999\n",
            "Epoch 90/100\n",
            "938/938 [==============================] - 3s 4ms/step - loss: 5.8667e-04 - accuracy: 0.9998\n",
            "Epoch 91/100\n",
            "938/938 [==============================] - 3s 4ms/step - loss: 0.0012 - accuracy: 0.9998\n",
            "Epoch 92/100\n",
            "938/938 [==============================] - 3s 4ms/step - loss: 0.0013 - accuracy: 0.9998\n",
            "Epoch 93/100\n",
            "938/938 [==============================] - 3s 4ms/step - loss: 3.1317e-04 - accuracy: 0.9999\n",
            "Epoch 94/100\n",
            "938/938 [==============================] - 3s 4ms/step - loss: 9.3502e-04 - accuracy: 0.9999\n",
            "Epoch 95/100\n",
            "938/938 [==============================] - 3s 4ms/step - loss: 1.7083e-04 - accuracy: 0.9999\n",
            "Epoch 96/100\n",
            "938/938 [==============================] - 3s 4ms/step - loss: 0.0014 - accuracy: 0.9999\n",
            "Epoch 97/100\n",
            "938/938 [==============================] - 3s 4ms/step - loss: 7.5991e-04 - accuracy: 0.9999\n",
            "Epoch 98/100\n",
            "938/938 [==============================] - 3s 4ms/step - loss: 4.2890e-04 - accuracy: 0.9999\n",
            "Epoch 99/100\n",
            "938/938 [==============================] - 3s 4ms/step - loss: 4.8851e-04 - accuracy: 0.9999\n",
            "Epoch 100/100\n",
            "938/938 [==============================] - 3s 4ms/step - loss: 0.0010 - accuracy: 0.9998\n"
          ],
          "name": "stdout"
        },
        {
          "output_type": "execute_result",
          "data": {
            "text/plain": [
              "<tensorflow.python.keras.callbacks.History at 0x7f49a002bf98>"
            ]
          },
          "metadata": {
            "tags": []
          },
          "execution_count": 51
        }
      ]
    },
    {
      "cell_type": "code",
      "metadata": {
        "id": "C65NGsjVBOjo",
        "colab": {
          "base_uri": "https://localhost:8080/"
        },
        "outputId": "0869f2fb-e2b6-4d82-e528-6ab3c5c0d961"
      },
      "source": [
        "test_loss, test_accuracy = model.evaluate(test_images, test_labels)"
      ],
      "execution_count": null,
      "outputs": [
        {
          "output_type": "stream",
          "text": [
            "313/313 [==============================] - 1s 2ms/step - loss: 0.2747 - accuracy: 0.9926\n"
          ],
          "name": "stdout"
        }
      ]
    },
    {
      "cell_type": "code",
      "metadata": {
        "id": "sDBw05lPBfMj",
        "colab": {
          "base_uri": "https://localhost:8080/"
        },
        "outputId": "b1974d71-2029-4473-8c56-3e96b04acd44"
      },
      "source": [
        "test_accuracy"
      ],
      "execution_count": null,
      "outputs": [
        {
          "output_type": "execute_result",
          "data": {
            "text/plain": [
              "0.9926000237464905"
            ]
          },
          "metadata": {
            "tags": []
          },
          "execution_count": 53
        }
      ]
    },
    {
      "cell_type": "code",
      "metadata": {
        "id": "K4Ty4O1WB3JQ",
        "colab": {
          "base_uri": "https://localhost:8080/"
        },
        "outputId": "063e1c1c-066a-43d1-eb5a-a0994504a699"
      },
      "source": [
        "predictions = model.predict_classes(test_images)"
      ],
      "execution_count": null,
      "outputs": [
        {
          "output_type": "stream",
          "text": [
            "WARNING:tensorflow:From <ipython-input-54-cd3d268a0ddd>:1: Sequential.predict_classes (from tensorflow.python.keras.engine.sequential) is deprecated and will be removed after 2021-01-01.\n",
            "Instructions for updating:\n",
            "Please use instead:* `np.argmax(model.predict(x), axis=-1)`,   if your model does multi-class classification   (e.g. if it uses a `softmax` last-layer activation).* `(model.predict(x) > 0.5).astype(\"int32\")`,   if your model does binary classification   (e.g. if it uses a `sigmoid` last-layer activation).\n"
          ],
          "name": "stdout"
        }
      ]
    },
    {
      "cell_type": "code",
      "metadata": {
        "id": "mrSezl9zCALn",
        "colab": {
          "base_uri": "https://localhost:8080/",
          "height": 282
        },
        "outputId": "bb334317-f0b4-49e4-b810-088808478c91"
      },
      "source": [
        "plt.imshow(image.array_to_img(test_images[100]), cmap=\"gray\")"
      ],
      "execution_count": null,
      "outputs": [
        {
          "output_type": "execute_result",
          "data": {
            "text/plain": [
              "<matplotlib.image.AxesImage at 0x7f4936693160>"
            ]
          },
          "metadata": {
            "tags": []
          },
          "execution_count": 58
        },
        {
          "output_type": "display_data",
          "data": {
            "image/png": "[encoded data removed]",
            "text/plain": [
              "<Figure size 432x288 with 1 Axes>"
            ]
          },
          "metadata": {
            "tags": [],
            "needs_background": "light"
          }
        }
      ]
    },
    {
      "cell_type": "code",
      "metadata": {
        "id": "nKJbHHk0CLNs",
        "colab": {
          "base_uri": "https://localhost:8080/"
        },
        "outputId": "5f2d099b-8a7b-4d0b-8301-033afe456cf3"
      },
      "source": [
        "predictions[100]"
      ],
      "execution_count": null,
      "outputs": [
        {
          "output_type": "execute_result",
          "data": {
            "text/plain": [
              "6"
            ]
          },
          "metadata": {
            "tags": []
          },
          "execution_count": 59
        }
      ]
    },
    {
      "cell_type": "code",
      "metadata": {
        "id": "R7TJH7sDEfeg",
        "colab": {
          "base_uri": "https://localhost:8080/",
          "height": 404
        },
        "outputId": "e70643c2-2f58-49e0-dd42-f663dd33bea6"
      },
      "source": [
        "img = image.load_img(path=\"/content/IMG_DA871CC1A547-1.jpeg\", grayscale=True, target_size=(28,28,1))\n",
        "img = image.img_to_array(img)\n",
        "plt.imshow(image.array_to_img(img), cmap=\"gray\")\n",
        "img = img.astype('float')/255\n",
        "test_img = img.reshape((1, 28, 28, 1))\n",
        "img_class = model.predict_classes(test_img)\n",
        "prediction = img_class[0]"
      ],
      "execution_count": null,
      "outputs": [
        {
          "output_type": "stream",
          "text": [
            "/usr/local/lib/python3.6/dist-packages/keras_preprocessing/image/utils.py:107: UserWarning: grayscale is deprecated. Please use color_mode = \"grayscale\"\n",
            "  warnings.warn('grayscale is deprecated. Please use '\n"
          ],
          "name": "stderr"
        },
        {
          "output_type": "error",
          "ename": "FileNotFoundError",
          "evalue": "ignored",
          "traceback": [
            "\u001b[0;31m---------------------------------------------------------------------------\u001b[0m",
            "\u001b[0;31mFileNotFoundError\u001b[0m                         Traceback (most recent call last)",
            "\u001b[0;32m<ipython-input-57-9ece160f13b1>\u001b[0m in \u001b[0;36m<module>\u001b[0;34m()\u001b[0m\n\u001b[0;32m----> 1\u001b[0;31m \u001b[0mimg\u001b[0m \u001b[0;34m=\u001b[0m \u001b[0mimage\u001b[0m\u001b[0;34m.\u001b[0m\u001b[0mload_img\u001b[0m\u001b[0;34m(\u001b[0m\u001b[0mpath\u001b[0m\u001b[0;34m=\u001b[0m\u001b[0;34m\"/content/IMG_DA871CC1A547-1.jpeg\"\u001b[0m\u001b[0;34m,\u001b[0m \u001b[0mgrayscale\u001b[0m\u001b[0;34m=\u001b[0m\u001b[0;32mTrue\u001b[0m\u001b[0;34m,\u001b[0m \u001b[0mtarget_size\u001b[0m\u001b[0;34m=\u001b[0m\u001b[0;34m(\u001b[0m\u001b[0;36m28\u001b[0m\u001b[0;34m,\u001b[0m\u001b[0;36m28\u001b[0m\u001b[0;34m,\u001b[0m\u001b[0;36m1\u001b[0m\u001b[0;34m)\u001b[0m\u001b[0;34m)\u001b[0m\u001b[0;34m\u001b[0m\u001b[0;34m\u001b[0m\u001b[0m\n\u001b[0m\u001b[1;32m      2\u001b[0m \u001b[0mimg\u001b[0m \u001b[0;34m=\u001b[0m \u001b[0mimage\u001b[0m\u001b[0;34m.\u001b[0m\u001b[0mimg_to_array\u001b[0m\u001b[0;34m(\u001b[0m\u001b[0mimg\u001b[0m\u001b[0;34m)\u001b[0m\u001b[0;34m\u001b[0m\u001b[0;34m\u001b[0m\u001b[0m\n\u001b[1;32m      3\u001b[0m \u001b[0mplt\u001b[0m\u001b[0;34m.\u001b[0m\u001b[0mimshow\u001b[0m\u001b[0;34m(\u001b[0m\u001b[0mimage\u001b[0m\u001b[0;34m.\u001b[0m\u001b[0marray_to_img\u001b[0m\u001b[0;34m(\u001b[0m\u001b[0mimg\u001b[0m\u001b[0;34m)\u001b[0m\u001b[0;34m,\u001b[0m \u001b[0mcmap\u001b[0m\u001b[0;34m=\u001b[0m\u001b[0;34m\"gray\"\u001b[0m\u001b[0;34m)\u001b[0m\u001b[0;34m\u001b[0m\u001b[0;34m\u001b[0m\u001b[0m\n\u001b[1;32m      4\u001b[0m \u001b[0mimg\u001b[0m \u001b[0;34m=\u001b[0m \u001b[0mimg\u001b[0m\u001b[0;34m.\u001b[0m\u001b[0mastype\u001b[0m\u001b[0;34m(\u001b[0m\u001b[0;34m'float'\u001b[0m\u001b[0;34m)\u001b[0m\u001b[0;34m/\u001b[0m\u001b[0;36m255\u001b[0m\u001b[0;34m\u001b[0m\u001b[0;34m\u001b[0m\u001b[0m\n\u001b[1;32m      5\u001b[0m \u001b[0mtest_img\u001b[0m \u001b[0;34m=\u001b[0m \u001b[0mimg\u001b[0m\u001b[0;34m.\u001b[0m\u001b[0mreshape\u001b[0m\u001b[0;34m(\u001b[0m\u001b[0;34m(\u001b[0m\u001b[0;36m1\u001b[0m\u001b[0;34m,\u001b[0m \u001b[0;36m28\u001b[0m\u001b[0;34m,\u001b[0m \u001b[0;36m28\u001b[0m\u001b[0;34m,\u001b[0m \u001b[0;36m1\u001b[0m\u001b[0;34m)\u001b[0m\u001b[0;34m)\u001b[0m\u001b[0;34m\u001b[0m\u001b[0;34m\u001b[0m\u001b[0m\n",
            "\u001b[0;32m/usr/local/lib/python3.6/dist-packages/tensorflow/python/keras/preprocessing/image.py\u001b[0m in \u001b[0;36mload_img\u001b[0;34m(path, grayscale, color_mode, target_size, interpolation)\u001b[0m\n\u001b[1;32m    299\u001b[0m   \"\"\"\n\u001b[1;32m    300\u001b[0m   return image.load_img(path, grayscale=grayscale, color_mode=color_mode,\n\u001b[0;32m--> 301\u001b[0;31m                         target_size=target_size, interpolation=interpolation)\n\u001b[0m\u001b[1;32m    302\u001b[0m \u001b[0;34m\u001b[0m\u001b[0m\n\u001b[1;32m    303\u001b[0m \u001b[0;34m\u001b[0m\u001b[0m\n",
            "\u001b[0;32m/usr/local/lib/python3.6/dist-packages/keras_preprocessing/image/utils.py\u001b[0m in \u001b[0;36mload_img\u001b[0;34m(path, grayscale, color_mode, target_size, interpolation)\u001b[0m\n\u001b[1;32m    111\u001b[0m         raise ImportError('Could not import PIL.Image. '\n\u001b[1;32m    112\u001b[0m                           'The use of `load_img` requires PIL.')\n\u001b[0;32m--> 113\u001b[0;31m     \u001b[0;32mwith\u001b[0m \u001b[0mopen\u001b[0m\u001b[0;34m(\u001b[0m\u001b[0mpath\u001b[0m\u001b[0;34m,\u001b[0m \u001b[0;34m'rb'\u001b[0m\u001b[0;34m)\u001b[0m \u001b[0;32mas\u001b[0m \u001b[0mf\u001b[0m\u001b[0;34m:\u001b[0m\u001b[0;34m\u001b[0m\u001b[0;34m\u001b[0m\u001b[0m\n\u001b[0m\u001b[1;32m    114\u001b[0m         \u001b[0mimg\u001b[0m \u001b[0;34m=\u001b[0m \u001b[0mpil_image\u001b[0m\u001b[0;34m.\u001b[0m\u001b[0mopen\u001b[0m\u001b[0;34m(\u001b[0m\u001b[0mio\u001b[0m\u001b[0;34m.\u001b[0m\u001b[0mBytesIO\u001b[0m\u001b[0;34m(\u001b[0m\u001b[0mf\u001b[0m\u001b[0;34m.\u001b[0m\u001b[0mread\u001b[0m\u001b[0;34m(\u001b[0m\u001b[0;34m)\u001b[0m\u001b[0;34m)\u001b[0m\u001b[0;34m)\u001b[0m\u001b[0;34m\u001b[0m\u001b[0;34m\u001b[0m\u001b[0m\n\u001b[1;32m    115\u001b[0m         \u001b[0;32mif\u001b[0m \u001b[0mcolor_mode\u001b[0m \u001b[0;34m==\u001b[0m \u001b[0;34m'grayscale'\u001b[0m\u001b[0;34m:\u001b[0m\u001b[0;34m\u001b[0m\u001b[0;34m\u001b[0m\u001b[0m\n",
            "\u001b[0;31mFileNotFoundError\u001b[0m: [Errno 2] No such file or directory: '/content/IMG_DA871CC1A547-1.jpeg'"
          ]
        }
      ]
    },
    {
      "cell_type": "code",
      "metadata": {
        "id": "VJCTkChkFW76"
      },
      "source": [
        "prediction"
      ],
      "execution_count": null,
      "outputs": []
    },
    {
      "cell_type": "code",
      "metadata": {
        "id": "5J7xmnvdIghU"
      },
      "source": [
        "model.save('/content/number-recog.h5')"
      ],
      "execution_count": null,
      "outputs": []
    }
  ]
}